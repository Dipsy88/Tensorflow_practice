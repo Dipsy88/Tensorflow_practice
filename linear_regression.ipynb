{
 "cells": [
  {
   "cell_type": "code",
   "execution_count": 2,
   "metadata": {},
   "outputs": [],
   "source": [
    "import numpy as np\n",
    "import pandas as pd\n",
    "import keras\n",
    "import tensorflow as tf\n",
    "import matplotlib.pyplot as plt\n",
    "\n",
    "from keras.models import Sequential\n",
    "from keras.layers import Dense"
   ]
  },
  {
   "cell_type": "code",
   "execution_count": 4,
   "metadata": {},
   "outputs": [],
   "source": [
    "X = np.arange(0.0, 5.0, 0.1)"
   ]
  },
  {
   "cell_type": "code",
   "execution_count": 9,
   "metadata": {},
   "outputs": [
    {
     "data": {
      "image/png": "[encoded data removed]",
      "text/plain": [
       "<matplotlib.figure.Figure at 0x182b8dcb70>"
      ]
     },
     "metadata": {
      "needs_background": "light"
     },
     "output_type": "display_data"
    }
   ],
   "source": [
    "# adjust the slope and intercept\n",
    "a = 1\n",
    "b = 0\n",
    "\n",
    "y = a * X + b\n",
    "\n",
    "plt.plot(X, y)\n",
    "plt.ylabel(\"Independent variable\")\n",
    "plt.xlabel(\"Dependent variable\")\n",
    "plt.show()"
   ]
  },
  {
   "cell_type": "code",
   "execution_count": 19,
   "metadata": {},
   "outputs": [],
   "source": [
    "x_data = np.random.rand(100).astype(np.float32)\n",
    "\n",
    "y_data = x_data *3 +2\n",
    "y_data = np.vectorize(lambda y:y + np.random.normal(0.0,0.1))(y_data)"
   ]
  },
  {
   "cell_type": "code",
   "execution_count": 20,
   "metadata": {},
   "outputs": [],
   "source": [
    "# linear regression with tensorflow\n",
    "\n",
    "a = tf.Variable(20.0)\n",
    "b = tf.Variable(30.2)\n",
    "y = a*x_data + b"
   ]
  },
  {
   "cell_type": "code",
   "execution_count": 23,
   "metadata": {},
   "outputs": [
    {
     "name": "stdout",
     "output_type": "stream",
     "text": [
      "Tensor(\"Mean_2:0\", shape=(), dtype=float32)\n"
     ]
    }
   ],
   "source": [
    "# find the loss\n",
    "loss = tf.reduce_mean(tf.square(y-y_data))\n",
    "print(loss)"
   ]
  },
  {
   "cell_type": "code",
   "execution_count": 24,
   "metadata": {},
   "outputs": [],
   "source": [
    "# optimizer method\n",
    "optimizer = tf.train.GradientDescentOptimizer(0.05)"
   ]
  },
  {
   "cell_type": "code",
   "execution_count": 25,
   "metadata": {},
   "outputs": [],
   "source": [
    "# training method\n",
    "train = optimizer.minimize(loss)"
   ]
  },
  {
   "cell_type": "code",
   "execution_count": 26,
   "metadata": {},
   "outputs": [],
   "source": [
    "# start\n",
    "init = tf.global_variables_initializer()\n",
    "sess = tf.Session()\n",
    "sess.run(init)"
   ]
  },
  {
   "cell_type": "code",
   "execution_count": 27,
   "metadata": {},
   "outputs": [
    {
     "name": "stdout",
     "output_type": "stream",
     "text": [
      "0 1407.9716 17.88099 26.481674\n",
      "5 349.4376 10.762083 14.008579\n",
      "10 86.75669 7.203777 7.801943\n",
      "15 21.569317 5.4195814 4.7167115\n",
      "20 5.390758 4.5195446 3.1861892\n",
      "25 1.3740236 4.0603237 2.4299328\n",
      "30 0.37541378 3.8210564 2.0591722\n",
      "35 0.12588194 3.6917074 1.8802478\n",
      "40 0.062348235 3.617451 1.7966954\n",
      "45 0.045075826 3.570965 1.7604672\n",
      "50 0.039381612 3.5386279 1.7476346\n",
      "55 0.036652364 3.513643 1.7462838\n",
      "60 0.034744848 3.492616 1.7504852\n",
      "65 0.033121534 3.473845 1.7572905\n",
      "70 0.031643767 3.4564729 1.7652369\n",
      "75 0.03027226 3.440064 1.7736003\n",
      "80 0.028992698 3.424392 1.7820255\n",
      "85 0.027797246 3.409336 1.79034\n",
      "90 0.026679944 3.3948274 1.7984629\n",
      "95 0.025635608 3.380824 1.8063581\n"
     ]
    }
   ],
   "source": [
    "# start the optimization and run the graph\n",
    "loss_values = []\n",
    "train_data = []\n",
    "for step in range (100):\n",
    "    _, loss_val, a_val, b_val = sess.run([train, loss, a, b])\n",
    "    loss_values.append(loss_val)\n",
    "    if step % 5==0:\n",
    "        print(step,loss_val, a_val, b_val)\n",
    "        train_data.append([a_val, b_val])\n",
    "    "
   ]
  },
  {
   "cell_type": "code",
   "execution_count": 30,
   "metadata": {},
   "outputs": [
    {
     "data": {
      "text/plain": [
       "[<matplotlib.lines.Line2D at 0x182d30df98>]"
      ]
     },
     "execution_count": 30,
     "metadata": {},
     "output_type": "execute_result"
    },
    {
     "data": {
      "image/png": "[encoded data removed]",
      "text/plain": [
       "<matplotlib.figure.Figure at 0x182d351c88>"
      ]
     },
     "metadata": {
      "needs_background": "light"
     },
     "output_type": "display_data"
    }
   ],
   "source": [
    "plt.plot(loss_values, 'ro')"
   ]
  },
  {
   "cell_type": "code",
   "execution_count": 33,
   "metadata": {},
   "outputs": [
    {
     "data": {
      "image/png": "[encoded data removed]",
      "text/plain": [
       "<matplotlib.figure.Figure at 0x182d255da0>"
      ]
     },
     "metadata": {
      "needs_background": "light"
     },
     "output_type": "display_data"
    }
   ],
   "source": [
    "# how coefficient and y-intercept has changed\n",
    "import matplotlib.patches as mpatches\n",
    "import matplotlib.pyplot as plt\n",
    "\n",
    "cr, cg, cb = (1.0, 1.0, 0.0)\n",
    "for f in train_data:\n",
    "    cb += 1.0 / len(train_data)\n",
    "    cg -= 1.0 / len(train_data)\n",
    "    if cb > 1.0: cb = 1.0\n",
    "    if cg < 0.0: cg = 0.0\n",
    "    [a, b] = f\n",
    "    f_y = np.vectorize(lambda x: a*x + b)(x_data)\n",
    "    line = plt.plot(x_data, f_y)\n",
    "    plt.setp(line, color=(cr,cg,cb))\n",
    "\n",
    "plt.plot(x_data, y_data, 'ro')\n",
    "\n",
    "\n",
    "green_line = mpatches.Patch(color='red', label='Data Points')\n",
    "\n",
    "plt.legend(handles=[green_line])\n",
    "\n",
    "plt.show()"
   ]
  },
  {
   "cell_type": "code",
   "execution_count": null,
   "metadata": {},
   "outputs": [],
   "source": []
  },
  {
   "cell_type": "code",
   "execution_count": null,
   "metadata": {},
   "outputs": [],
   "source": []
  },
  {
   "cell_type": "code",
   "execution_count": 65,
   "metadata": {},
   "outputs": [],
   "source": [
    "# 2. another example\n",
    "learning_rate = 0.01\n",
    "training_epochs = 1000\n",
    "display_step = 50"
   ]
  },
  {
   "cell_type": "code",
   "execution_count": 66,
   "metadata": {},
   "outputs": [],
   "source": [
    "train_X = np.asarray([3.3,4.4,5.5,6.71,6.93,4.168,9.779,6.182,7.59,2.167,\n",
    "                         7.042,10.791,5.313,7.997,5.654,9.27,3.1])\n",
    "train_Y = np.asarray([1.7,2.76,2.09,3.19,1.694,1.573,3.366,2.596,2.53,1.221,\n",
    "                         2.827,3.465,1.65,2.904,2.42,2.94,1.3])\n",
    "n_samples = train_X.shape[0]"
   ]
  },
  {
   "cell_type": "code",
   "execution_count": 67,
   "metadata": {},
   "outputs": [],
   "source": [
    "# tensorflow graph input\n",
    "X = tf.placeholder(\"float\")\n",
    "Y = tf.placeholder(\"float\")\n",
    "\n",
    "# set model weights\n",
    "W = tf.Variable(np.random.randn(), name =\"weight\")\n",
    "b = tf.Variable(np.random.randn(), name = \"bias\")"
   ]
  },
  {
   "cell_type": "code",
   "execution_count": 68,
   "metadata": {},
   "outputs": [],
   "source": [
    "# construct a linear model\n",
    "pred = tf.add(tf.multiply(W,X), b)"
   ]
  },
  {
   "cell_type": "code",
   "execution_count": 69,
   "metadata": {},
   "outputs": [],
   "source": [
    "# mean squared error\n",
    "cost = tf.reduce_sum(tf.pow(pred-Y, 2))/(2*n_samples)\n",
    "# gradient descent\n",
    "optimizer = tf.train.GradientDescentOptimizer(learning_rate).minimize(cost)\n",
    "\n",
    "# initialize the variables\n",
    "init = tf.global_variables_initializer()"
   ]
  },
  {
   "cell_type": "code",
   "execution_count": 76,
   "metadata": {},
   "outputs": [
    {
     "name": "stdout",
     "output_type": "stream",
     "text": [
      "Epoch: 0050 cost= 0.201050177 W= 0.44652665 b= -0.61525583\n",
      "Epoch: 0100 cost= 0.186715841 W= 0.43481418 b= -0.53099716\n",
      "Epoch: 0150 cost= 0.174036711 W= 0.42379823 b= -0.4517489\n",
      "Epoch: 0200 cost= 0.162821874 W= 0.4134374 b= -0.377214\n",
      "Epoch: 0250 cost= 0.152902246 W= 0.40369284 b= -0.3071123\n",
      "Epoch: 0300 cost= 0.144128278 W= 0.3945278 b= -0.24118002\n",
      "Epoch: 0350 cost= 0.136367679 W= 0.38590792 b= -0.17916887\n",
      "Epoch: 0400 cost= 0.129503459 W= 0.37780058 b= -0.12084565\n",
      "Epoch: 0450 cost= 0.123432145 W= 0.37017554 b= -0.06599145\n",
      "Epoch: 0500 cost= 0.118062191 W= 0.36300397 b= -0.014399611\n",
      "Epoch: 0550 cost= 0.113312587 W= 0.3562589 b= 0.03412379\n",
      "Epoch: 0600 cost= 0.109111696 W= 0.349915 b= 0.0797613\n",
      "Epoch: 0650 cost= 0.105396166 W= 0.3439484 b= 0.12268451\n",
      "Epoch: 0700 cost= 0.102109961 W= 0.3383367 b= 0.16305493\n",
      "Epoch: 0750 cost= 0.099203505 W= 0.33305874 b= 0.20102412\n",
      "Epoch: 0800 cost= 0.096632905 W= 0.3280946 b= 0.2367355\n",
      "Epoch: 0850 cost= 0.094359405 W= 0.32342583 b= 0.27032262\n",
      "Epoch: 0900 cost= 0.092348687 W= 0.3190347 b= 0.30191246\n",
      "Epoch: 0950 cost= 0.090570398 W= 0.31490463 b= 0.33162314\n",
      "Epoch: 1000 cost= 0.088997699 W= 0.31102037 b= 0.3595668\n",
      "Optimization Finished!\n",
      "Training cost= 0.0889977 W= 0.31102037 b= 0.3595668 \n",
      "\n"
     ]
    },
    {
     "data": {
      "image/png": "[encoded data removed]",
      "text/plain": [
       "<matplotlib.figure.Figure at 0x182e2fb2e8>"
      ]
     },
     "metadata": {
      "needs_background": "light"
     },
     "output_type": "display_data"
    }
   ],
   "source": [
    "# start\n",
    "with tf.Session() as sess:\n",
    "    sess.run(init)\n",
    "    \n",
    "    #fit all training data\n",
    "    for epoch in range(epochs):\n",
    "        for (x, y) in zip(train_X, train_Y):\n",
    "            sess.run(optimizer, feed_dict={X: x, Y: y})\n",
    "\n",
    "        #Display logs per epoch step\n",
    "        if (epoch+1) % display_step == 0:\n",
    "            c = sess.run(cost, feed_dict={X: train_X, Y:train_Y})\n",
    "            print (\"Epoch:\", '%04d' % (epoch+1), \"cost=\", \"{:.9f}\".format(c), \\\n",
    "                \"W=\", sess.run(W), \"b=\", sess.run(b))\n",
    "\n",
    "    print (\"Optimization Finished!\")\n",
    "    training_cost = sess.run(cost, feed_dict={X: train_X, Y: train_Y})\n",
    "    print (\"Training cost=\", training_cost, \"W=\", sess.run(W), \"b=\", sess.run(b), '\\n')\n",
    "\n",
    "    #Graphic display\n",
    "    plt.plot(train_X, train_Y, 'ro', label='Original data')\n",
    "    plt.plot(train_X, sess.run(W) * train_X + sess.run(b), label='Fitted line')\n",
    "    plt.legend()\n",
    "    plt.show()"
   ]
  },
  {
   "cell_type": "code",
   "execution_count": null,
   "metadata": {},
   "outputs": [],
   "source": []
  },
  {
   "cell_type": "code",
   "execution_count": null,
   "metadata": {},
   "outputs": [],
   "source": []
  }
 ],
 "metadata": {
  "kernelspec": {
   "display_name": "Python 3",
   "language": "python",
   "name": "python3"
  },
  "language_info": {
   "codemirror_mode": {
    "name": "ipython",
    "version": 3
   },
   "file_extension": ".py",
   "mimetype": "text/x-python",
   "name": "python",
   "nbconvert_exporter": "python",
   "pygments_lexer": "ipython3",
   "version": "3.6.7"
  }
 },
 "nbformat": 4,
 "nbformat_minor": 2
}
