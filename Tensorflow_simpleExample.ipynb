{
 "cells": [
  {
   "cell_type": "code",
   "execution_count": 13,
   "metadata": {},
   "outputs": [],
   "source": [
    "from __future__ import print_function\n",
    "import tensorflow as tf\n",
    "import numpy as np\n",
    "import pandas as pd\n",
    "import keras\n",
    "import matplotlib.pyplot as plt\n",
    "\n",
    "from keras.layers import Dense\n",
    "from keras.models import Sequential\n"
   ]
  },
  {
   "cell_type": "code",
   "execution_count": 15,
   "metadata": {},
   "outputs": [],
   "source": [
    "# create a graph\n",
    "graph = tf.Graph()"
   ]
  },
  {
   "cell_type": "code",
   "execution_count": 22,
   "metadata": {},
   "outputs": [
    {
     "name": "stdout",
     "output_type": "stream",
     "text": [
      "17\n"
     ]
    }
   ],
   "source": [
    "# establish the graph as the \"deafult\" graph\n",
    "with graph.as_default():\n",
    "    x = tf.constant(8, name = 'x-constant')\n",
    "    y = tf.constant(9, name = 'y-constant')\n",
    "    sum = tf.add(x, y, name='xy-sum')\n",
    "    \n",
    "    # Create a session\n",
    "    # session will run the default graph\n",
    "    with tf.Session() as sess:\n",
    "        print(sum.eval())"
   ]
  },
  {
   "cell_type": "code",
   "execution_count": 24,
   "metadata": {},
   "outputs": [
    {
     "name": "stdout",
     "output_type": "stream",
     "text": [
      "primes: Tensor(\"Const_12:0\", shape=(6,), dtype=int32)\n",
      "ones: Tensor(\"ones_1:0\", shape=(6,), dtype=int32)\n",
      "beyond_primes: Tensor(\"Add_1:0\", shape=(6,), dtype=int32)\n",
      "prime_doubled: Tensor(\"mul:0\", shape=(6,), dtype=int32)\n"
     ]
    }
   ],
   "source": [
    "# Vector Addition\n",
    "primes = tf.constant([2,3,5,7,11,13], dtype=tf.int32)\n",
    "print(\"primes:\", primes)\n",
    "\n",
    "ones = tf.ones([6], dtype=tf.int32)\n",
    "print(\"ones:\", ones)\n",
    "\n",
    "beyond_primes = tf.add(primes,ones)\n",
    "print(\"beyond_primes:\", beyond_primes)\n",
    "\n",
    "twos = tf.constant([2,2,2,2,2,2], dtype=tf.int32)\n",
    "prime_doubled = primes*twos\n",
    "print(\"prime_doubled:\", prime_doubled)"
   ]
  },
  {
   "cell_type": "code",
   "execution_count": 28,
   "metadata": {},
   "outputs": [
    {
     "name": "stdout",
     "output_type": "stream",
     "text": [
      "scalar has shape ()\n",
      "vector has shape (3,)\n",
      "matrix has shape (2, 3)\n"
     ]
    }
   ],
   "source": [
    "# Tensor shapes\n",
    "\n",
    "# A scalar (0-D tensor).\n",
    "scalar = tf.zeros([])\n",
    "\n",
    "# A vector with 3 elements.\n",
    "vector = tf.zeros([3])\n",
    "\n",
    "# A matrix with 2 rows and 3 columns.\n",
    "matrix = tf.zeros([2, 3])\n",
    "\n",
    "print('scalar has shape', scalar.get_shape())\n",
    "print('vector has shape', vector.get_shape())\n",
    "print('matrix has shape', matrix.get_shape())"
   ]
  },
  {
   "cell_type": "code",
   "execution_count": 31,
   "metadata": {},
   "outputs": [
    {
     "name": "stdout",
     "output_type": "stream",
     "text": [
      "[1 2 3]\n",
      "2\n",
      "[3 4 5]\n"
     ]
    }
   ],
   "source": [
    "a = np.array([1, 2, 3])\n",
    "print(a)\n",
    "b = 2\n",
    "print(b)\n",
    "c = a + b\n",
    "print(c)"
   ]
  },
  {
   "cell_type": "code",
   "execution_count": 36,
   "metadata": {},
   "outputs": [
    {
     "name": "stdout",
     "output_type": "stream",
     "text": [
      "[  3   8  24  48 120 168]\n"
     ]
    }
   ],
   "source": [
    "primes = tf.constant([2, 3, 5, 7, 11, 13], dtype=tf.int32)\n",
    "result = tf.multiply(primes,primes) - 1\n",
    "\n",
    "with tf.Session() as sess:\n",
    "    result = sess.run(result)\n",
    "    print(result)"
   ]
  },
  {
   "cell_type": "code",
   "execution_count": 40,
   "metadata": {},
   "outputs": [
    {
     "data": {
      "text/plain": [
       "<tf.Tensor 'Reshape:0' shape=(8, 2) dtype=int32>"
      ]
     },
     "execution_count": 40,
     "metadata": {},
     "output_type": "execute_result"
    }
   ],
   "source": [
    "matrix = tf.constant([[1, 2], [3, 4], [5, 6], [7, 8], [9, 10], [11, 12], [13, 14], [15, 16]],\n",
    "    dtype=tf.int32)\n",
    "matrix.shape\n",
    "tf.reshape(matrix,[8,-1])"
   ]
  },
  {
   "cell_type": "code",
   "execution_count": null,
   "metadata": {},
   "outputs": [],
   "source": []
  }
 ],
 "metadata": {
  "kernelspec": {
   "display_name": "Python 3",
   "language": "python",
   "name": "python3"
  },
  "language_info": {
   "codemirror_mode": {
    "name": "ipython",
    "version": 3
   },
   "file_extension": ".py",
   "mimetype": "text/x-python",
   "name": "python",
   "nbconvert_exporter": "python",
   "pygments_lexer": "ipython3",
   "version": "3.6.7"
  }
 },
 "nbformat": 4,
 "nbformat_minor": 2
}
