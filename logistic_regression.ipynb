{
 "cells": [
  {
   "cell_type": "code",
   "execution_count": 3,
   "metadata": {},
   "outputs": [],
   "source": [
    "import tensorflow as tf\n",
    "import numpy as np\n",
    "import keras\n",
    "import pandas as pd\n",
    "import matplotlib.pyplot as plt\n",
    "\n",
    "from keras.layers import Dense\n",
    "from keras.models import Sequential\n",
    "\n",
    "# data\n",
    "from sklearn.datasets import load_iris\n",
    "from sklearn.model_selection import train_test_split"
   ]
  },
  {
   "cell_type": "code",
   "execution_count": 30,
   "metadata": {},
   "outputs": [],
   "source": [
    "iris = load_iris()\n",
    "iris_X, iris_y = iris.data[:-1,:], iris.target[:-1]\n",
    "# convert categorical values into dummy/indicator values\n",
    "iris_y = pd.get_dummies(iris_y).values\n",
    "trainX, testX, trainY, testY = train_test_split(iris_X, iris_y, test_size = 0.33, random_state = 42)"
   ]
  },
  {
   "cell_type": "code",
   "execution_count": 39,
   "metadata": {},
   "outputs": [],
   "source": [
    "# number of features in our input data\n",
    "numFeatures = trainX.shape[1]\n",
    "\n",
    "# number of classes our data points can be in\n",
    "numClasses = trainY.shape[1]\n",
    "\n",
    "# Placeholder\n",
    "# 'None' means TensorFlow should not expect a fixed number in that dimension\n",
    "X = tf.placeholder(tf.float32, [None, numFeatures]) # Iris has 4 features\n",
    "y = tf.placeholder(tf.float32, [None, numClasses]) # Answer matrix for 3 classes"
   ]
  },
  {
   "cell_type": "code",
   "execution_count": 40,
   "metadata": {},
   "outputs": [
    {
     "data": {
      "text/plain": [
       "<tf.Variable 'Variable_1:0' shape=(4, 3) dtype=float32_ref>"
      ]
     },
     "execution_count": 40,
     "metadata": {},
     "output_type": "execute_result"
    }
   ],
   "source": [
    "# Multiply the 4-dimensional input vectors by it to produce 3-dimensional vectors of evidence for the difference classes\n",
    "# Set model weights and bias\n",
    "W = tf.Variable(tf.zeros([4,3])) # 4 dimensional input and 3 classes\n",
    "b = tf.Variable(tf.zeros([3])) # 3 dimensional output\n",
    "W"
   ]
  },
  {
   "cell_type": "code",
   "execution_count": 48,
   "metadata": {},
   "outputs": [],
   "source": [
    "# Randomly sample from a normal distribution with standard deviation 0.01\n",
    "weights = tf.Variable(tf.random_normal([numFeatures, numClasses],\n",
    "                                      mean=0,\n",
    "                                      stddev=0.01,\n",
    "                                      name=\"weights\"))\n",
    "\n",
    "bias = tf.Variable(tf.random_normal([1,numClasses],\n",
    "                                   mean=0,\n",
    "                                   stddev=0.01,\n",
    "                                   name=\"bias\"))"
   ]
  },
  {
   "cell_type": "markdown",
   "metadata": {},
   "source": [
    "𝑦̂ =𝑠𝑖𝑔𝑚𝑜𝑖𝑑(𝑊𝑋+𝑏)\n",
    "\n",
    "tf.nn.sigmoid = $(\\frac{1}{1+e^{-Wx}})$"
   ]
  },
  {
   "cell_type": "code",
   "execution_count": 52,
   "metadata": {},
   "outputs": [],
   "source": [
    "# weight times features matrix multiplication operation\n",
    "apply_weights_OP = tf.matmul(X, weights, name=\"apply_weights\")\n",
    "# summation of the weighted features and a bias term\n",
    "add_bias_OP = tf.add(apply_weights, bias, name =\"add_bias\")\n",
    "# application of a sigmoid function\n",
    "activation_OP = tf.nn.sigmoid(add_bias, name=\"activation\")"
   ]
  },
  {
   "cell_type": "code",
   "execution_count": 54,
   "metadata": {},
   "outputs": [],
   "source": [
    "# defining the cost function\n",
    "\n",
    "numEpochs = 700\n",
    "learningRate = tf.train.exponential_decay(learning_rate=0.0008,\n",
    "                                         global_step=1,\n",
    "                                         decay_steps=trainX.shape[0],\n",
    "                                         decay_rate=0.95,\n",
    "                                         staircase=True)\n",
    "\n",
    "#Defining our cost function - Squared Mean Error\n",
    "cost_OP = tf.nn.l2_loss(activation_OP-y, name=\"squared_error_cost\")\n",
    "\n",
    "#Defining our Gradient Descent\n",
    "training_OP = tf.train.GradientDescentOptimizer(learningRate).minimize(cost_OP)"
   ]
  },
  {
   "cell_type": "code",
   "execution_count": 55,
   "metadata": {},
   "outputs": [],
   "source": [
    "# create a tensorflow session\n",
    "sess = tf.Session()\n",
    "\n",
    "# initialize the weights and biases\n",
    "init_OP = tf.global_variables_initializer()\n",
    "\n",
    "# initialize all tensorflow variables in tf\n",
    "sess.run(init_OP)"
   ]
  },
  {
   "cell_type": "code",
   "execution_count": 57,
   "metadata": {},
   "outputs": [],
   "source": [
    "# keep track of model's efficiency over time\n",
    "# argmax(activation_OP, 1) returns the label with the most probability\n",
    "# argmax(yGold, 1) is the correct label\n",
    "correct_predictions_OP = tf.equal(tf.argmax(activation_OP,1),tf.argmax(y,1))\n",
    "\n",
    "# If every false prediction is 0 and every true prediction is 1, the average returns us the accuracy\n",
    "accuracy_OP = tf.reduce_mean(tf.cast(correct_predictions_OP, \"float\"))\n",
    "\n",
    "# Summary op for regression output\n",
    "activation_summary_OP = tf.summary.histogram(\"output\", activation_OP)\n",
    "\n",
    "# Summary op for accuracy\n",
    "accuracy_summary_OP = tf.summary.scalar(\"accuracy\", accuracy_OP)\n",
    "\n",
    "# Summary op for cost\n",
    "cost_summary_OP = tf.summary.scalar(\"cost\", cost_OP)\n",
    "\n",
    "# Summary ops to check how variables (W, b) are updating after each iteration\n",
    "weightSummary = tf.summary.histogram(\"weights\", weights.eval(session=sess))\n",
    "biasSummary = tf.summary.histogram(\"biases\", bias.eval(session=sess))\n",
    "\n",
    "# Merge all summaries\n",
    "merged = tf.summary.merge([activation_summary_OP, accuracy_summary_OP, cost_summary_OP, weightSummary, biasSummary])\n",
    "\n",
    "# Summary writer\n",
    "writer = tf.summary.FileWriter(\"summary_logs\", sess.graph)"
   ]
  },
  {
   "cell_type": "code",
   "execution_count": 59,
   "metadata": {},
   "outputs": [
    {
     "name": "stdout",
     "output_type": "stream",
     "text": [
      "step 0, training accuracy 0.636364, cost 33.0899, change in cost 33.0899\n",
      "step 10, training accuracy 0.606061, cost 29.9217, change in cost 3.16823\n",
      "step 20, training accuracy 0.646465, cost 28.0168, change in cost 1.9049\n",
      "step 30, training accuracy 0.646465, cost 26.4077, change in cost 1.60902\n",
      "step 40, training accuracy 0.646465, cost 25.0694, change in cost 1.33838\n",
      "step 50, training accuracy 0.646465, cost 23.9619, change in cost 1.10745\n",
      "step 60, training accuracy 0.646465, cost 23.0436, change in cost 0.918301\n",
      "step 70, training accuracy 0.646465, cost 22.2772, change in cost 0.766371\n",
      "step 80, training accuracy 0.646465, cost 21.6321, change in cost 0.645184\n",
      "step 90, training accuracy 0.646465, cost 21.0836, change in cost 0.548464\n",
      "step 100, training accuracy 0.666667, cost 20.6127, change in cost 0.470907\n",
      "step 110, training accuracy 0.666667, cost 20.2044, change in cost 0.408281\n",
      "step 120, training accuracy 0.666667, cost 19.8471, change in cost 0.35729\n",
      "step 130, training accuracy 0.666667, cost 19.5317, change in cost 0.315414\n",
      "step 140, training accuracy 0.666667, cost 19.251, change in cost 0.280737\n",
      "step 150, training accuracy 0.666667, cost 18.9992, change in cost 0.25176\n",
      "step 160, training accuracy 0.686869, cost 18.7718, change in cost 0.227365\n",
      "step 170, training accuracy 0.686869, cost 18.5652, change in cost 0.206661\n",
      "step 180, training accuracy 0.69697, cost 18.3762, change in cost 0.188961\n",
      "step 190, training accuracy 0.707071, cost 18.2025, change in cost 0.173721\n",
      "step 200, training accuracy 0.717172, cost 18.042, change in cost 0.160517\n",
      "step 210, training accuracy 0.737374, cost 17.893, change in cost 0.149006\n",
      "step 220, training accuracy 0.737374, cost 17.7541, change in cost 0.138905\n",
      "step 230, training accuracy 0.747475, cost 17.6241, change in cost 0.130005\n",
      "step 240, training accuracy 0.757576, cost 17.5019, change in cost 0.122112\n",
      "step 250, training accuracy 0.777778, cost 17.3869, change in cost 0.11508\n",
      "step 260, training accuracy 0.787879, cost 17.2781, change in cost 0.108786\n",
      "step 270, training accuracy 0.787879, cost 17.175, change in cost 0.103128\n",
      "step 280, training accuracy 0.787879, cost 17.0769, change in cost 0.0980263\n",
      "step 290, training accuracy 0.787879, cost 16.9835, change in cost 0.0934029\n",
      "step 300, training accuracy 0.79798, cost 16.8943, change in cost 0.0891895\n",
      "step 310, training accuracy 0.79798, cost 16.809, change in cost 0.08535\n",
      "step 320, training accuracy 0.79798, cost 16.7272, change in cost 0.081831\n",
      "step 330, training accuracy 0.79798, cost 16.6486, change in cost 0.078598\n",
      "step 340, training accuracy 0.808081, cost 16.5729, change in cost 0.0756187\n",
      "step 350, training accuracy 0.828283, cost 16.5001, change in cost 0.0728664\n",
      "step 360, training accuracy 0.828283, cost 16.4298, change in cost 0.0703106\n",
      "step 370, training accuracy 0.838384, cost 16.3618, change in cost 0.0679379\n",
      "step 380, training accuracy 0.838384, cost 16.2961, change in cost 0.0657291\n",
      "step 390, training accuracy 0.848485, cost 16.2324, change in cost 0.0636616\n",
      "step 400, training accuracy 0.848485, cost 16.1707, change in cost 0.0617294\n",
      "step 410, training accuracy 0.848485, cost 16.1108, change in cost 0.0599174\n",
      "step 420, training accuracy 0.848485, cost 16.0526, change in cost 0.0582142\n",
      "step 430, training accuracy 0.858586, cost 15.996, change in cost 0.0566063\n",
      "step 440, training accuracy 0.868687, cost 15.9409, change in cost 0.0550928\n",
      "step 450, training accuracy 0.868687, cost 15.8872, change in cost 0.0536633\n",
      "step 460, training accuracy 0.878788, cost 15.8349, change in cost 0.0523033\n",
      "step 470, training accuracy 0.878788, cost 15.7839, change in cost 0.0510187\n",
      "step 480, training accuracy 0.878788, cost 15.7341, change in cost 0.0497952\n",
      "step 490, training accuracy 0.878788, cost 15.6855, change in cost 0.0486336\n",
      "step 500, training accuracy 0.878788, cost 15.6379, change in cost 0.0475302\n",
      "step 510, training accuracy 0.878788, cost 15.5915, change in cost 0.0464659\n",
      "step 520, training accuracy 0.878788, cost 15.546, change in cost 0.0454636\n",
      "step 530, training accuracy 0.888889, cost 15.5015, change in cost 0.0444927\n",
      "step 540, training accuracy 0.89899, cost 15.4579, change in cost 0.0435705\n",
      "step 550, training accuracy 0.89899, cost 15.4153, change in cost 0.0426836\n",
      "step 560, training accuracy 0.89899, cost 15.3734, change in cost 0.041831\n",
      "step 570, training accuracy 0.89899, cost 15.3324, change in cost 0.0410166\n",
      "step 580, training accuracy 0.89899, cost 15.2922, change in cost 0.0402288\n",
      "step 590, training accuracy 0.909091, cost 15.2527, change in cost 0.0394726\n",
      "step 600, training accuracy 0.909091, cost 15.214, change in cost 0.038744\n",
      "step 610, training accuracy 0.909091, cost 15.1759, change in cost 0.0380421\n",
      "step 620, training accuracy 0.909091, cost 15.1386, change in cost 0.0373611\n",
      "step 630, training accuracy 0.909091, cost 15.1018, change in cost 0.0367069\n",
      "step 640, training accuracy 0.909091, cost 15.0658, change in cost 0.0360746\n",
      "step 650, training accuracy 0.909091, cost 15.0303, change in cost 0.0354624\n",
      "step 660, training accuracy 0.909091, cost 14.9954, change in cost 0.0348673\n",
      "step 670, training accuracy 0.909091, cost 14.9611, change in cost 0.0342951\n",
      "step 680, training accuracy 0.909091, cost 14.9274, change in cost 0.0337372\n",
      "step 690, training accuracy 0.909091, cost 14.8942, change in cost 0.0331984\n",
      "final accuracy on test set: 0.9\n"
     ]
    }
   ],
   "source": [
    "# Initialize reporting variables\n",
    "cost = 0\n",
    "diff = 1\n",
    "epoch_values = []\n",
    "accuracy_values = []\n",
    "cost_values = []\n",
    "\n",
    "# Training epochs\n",
    "for i in range(numEpochs):\n",
    "    if i > 1 and diff < .0001:\n",
    "        print(\"change in cost %g; convergence.\"%diff)\n",
    "        break\n",
    "    else:\n",
    "        # Run training step\n",
    "        step = sess.run(training_OP, feed_dict={X: trainX, y: trainY})\n",
    "        # Report occasional stats\n",
    "        if i % 10 == 0:\n",
    "            # Add epoch to epoch_values\n",
    "            epoch_values.append(i)\n",
    "            # Generate accuracy stats on test data\n",
    "            train_accuracy, newCost = sess.run([accuracy_OP, cost_OP], feed_dict={X: trainX, y: trainY})\n",
    "            # Add accuracy to live graphing variable\n",
    "            accuracy_values.append(train_accuracy)\n",
    "            # Add cost to live graphing variable\n",
    "            cost_values.append(newCost)\n",
    "            # Re-assign values for variables\n",
    "            diff = abs(newCost - cost)\n",
    "            cost = newCost\n",
    "\n",
    "            #generate print statements\n",
    "            print(\"step %d, training accuracy %g, cost %g, change in cost %g\"%(i, train_accuracy, newCost, diff))\n",
    "\n",
    "\n",
    "# How well do we perform on held-out test data?\n",
    "print(\"final accuracy on test set: %s\" %str(sess.run(accuracy_OP, \n",
    "                                                     feed_dict={X: testX, \n",
    "                                                                y: testY})))"
   ]
  },
  {
   "cell_type": "code",
   "execution_count": 61,
   "metadata": {},
   "outputs": [
    {
     "data": {
      "image/png": "[encoded data removed]",
      "text/plain": [
       "<matplotlib.figure.Figure at 0x1a2a027160>"
      ]
     },
     "metadata": {
      "needs_background": "light"
     },
     "output_type": "display_data"
    }
   ],
   "source": [
    "import numpy as np\n",
    "import matplotlib.pyplot as plt\n",
    "plt.plot([np.mean(cost_values[i-50:i]) for i in range(len(cost_values))])\n",
    "plt.show()"
   ]
  },
  {
   "cell_type": "code",
   "execution_count": null,
   "metadata": {},
   "outputs": [],
   "source": []
  }
 ],
 "metadata": {
  "kernelspec": {
   "display_name": "Python 3",
   "language": "python",
   "name": "python3"
  },
  "language_info": {
   "codemirror_mode": {
    "name": "ipython",
    "version": 3
   },
   "file_extension": ".py",
   "mimetype": "text/x-python",
   "name": "python",
   "nbconvert_exporter": "python",
   "pygments_lexer": "ipython3",
   "version": "3.6.7"
  }
 },
 "nbformat": 4,
 "nbformat_minor": 2
}
